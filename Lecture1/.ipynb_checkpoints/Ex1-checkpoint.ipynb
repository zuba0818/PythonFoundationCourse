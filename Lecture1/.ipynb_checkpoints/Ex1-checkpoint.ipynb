{
 "cells": [
  {
   "cell_type": "code",
   "execution_count": 45,
   "metadata": {},
   "outputs": [
    {
     "name": "stdout",
     "output_type": "stream",
     "text": [
      "Input a number: 1\n",
      "The sum for first i number is 1\n"
     ]
    }
   ],
   "source": [
    "i = input(\"Input a number: \") #1\n",
    "a = list(range(int(i)+1))\n",
    "print(\"The sum for first i number is\", sum(a))"
   ]
  },
  {
   "cell_type": "code",
   "execution_count": 48,
   "metadata": {},
   "outputs": [
    {
     "name": "stdout",
     "output_type": "stream",
     "text": [
      "Input a Celsius1\n",
      "1 Celsius is equal to 33.8\n"
     ]
    }
   ],
   "source": [
    "C = int(input('Input a Celsius')) #2\n",
    "print(f'{C} Celsius is equal to {(C*1.8+32)}')"
   ]
  },
  {
   "cell_type": "code",
   "execution_count": 54,
   "metadata": {},
   "outputs": [
    {
     "name": "stdout",
     "output_type": "stream",
     "text": [
      "Input code:5\n",
      "https://hk.finance.yahoo.com/quote/0005.hk\n"
     ]
    }
   ],
   "source": [
    "Stock_Code=input(\"Input code:\")\n",
    "Stock_Code=Stock_Code.zfill(4)\n",
    "URL= \"https://hk.finance.yahoo.com/quote/\"+Stock_Code+\".hk\"\n",
    "print(URL)"
   ]
  },
  {
   "cell_type": "code",
   "execution_count": 43,
   "metadata": {},
   "outputs": [
    {
     "data": {
      "text/plain": [
       "'University Polytechnic Kong Hong The'"
      ]
     },
     "execution_count": 43,
     "metadata": {},
     "output_type": "execute_result"
    }
   ],
   "source": [
    "x = ('The Hong Kong Polytechnic University') #\n",
    "xlist = x.split()\n",
    "xlist.reverse()\n",
    "\" \".join(xlist)"
   ]
  },
  {
   "cell_type": "code",
   "execution_count": 44,
   "metadata": {},
   "outputs": [
    {
     "data": {
      "text/plain": [
       "['University', 'Polytechnic', 'Kong', 'Hong', 'The']"
      ]
     },
     "execution_count": 44,
     "metadata": {},
     "output_type": "execute_result"
    }
   ],
   "source": [
    "xlist"
   ]
  }
 ],
 "metadata": {
  "kernelspec": {
   "display_name": "Python 3",
   "language": "python",
   "name": "python3"
  },
  "language_info": {
   "codemirror_mode": {
    "name": "ipython",
    "version": 3
   },
   "file_extension": ".py",
   "mimetype": "text/x-python",
   "name": "python",
   "nbconvert_exporter": "python",
   "pygments_lexer": "ipython3",
   "version": "3.6.4"
  }
 },
 "nbformat": 4,
 "nbformat_minor": 2
}
